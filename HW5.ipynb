{
 "cells": [
  {
   "cell_type": "code",
   "execution_count": 13,
   "metadata": {},
   "outputs": [],
   "source": [
    "import numpy as np"
   ]
  },
  {
   "cell_type": "code",
   "execution_count": 14,
   "metadata": {},
   "outputs": [
    {
     "name": "stdout",
     "output_type": "stream",
     "text": [
      "English : mean = 67.17, max = 89.00, min = 48.00, std = 13.43\n",
      "Math : mean = 66.60, max = 85.00, min = 60.00, std = 9.71\n",
      "Chinese : mean = 75.33, max = 90.00, min = 65.00, std = 8.83\n"
     ]
    }
   ],
   "source": [
    "#1. 請計算各科成績平均、最大值、最小值、標準差，其中數學缺一筆資料可忽略?\n",
    "english_score = np.array([55,89,76,65,48,70])\n",
    "math_score = np.array([60,85,60,68,np.nan,60])\n",
    "chinese_score = np.array([65,90,82,72,66,77])\n",
    "\n",
    "E_mean = english_score.mean()\n",
    "E_max = english_score.max()\n",
    "E_min = english_score.min()\n",
    "E_std = english_score.std()\n",
    "M_mean = np.nanmean(math_score)\n",
    "M_max = np.nanmax(math_score)\n",
    "M_min = np.nanmin(math_score)\n",
    "M_std = np.nanstd(math_score)\n",
    "C_mean = chinese_score.mean()\n",
    "C_max = chinese_score.max()\n",
    "C_min = chinese_score.min()\n",
    "C_std = chinese_score.std()\n",
    "\n",
    "print(f'English : mean = {E_mean:.2f}, max = {E_max:.2f}, min = {E_min:.2f}, std = {E_std:.2f}')\n",
    "print(f'Math : mean = {M_mean:.2f}, max = {M_max:.2f}, min = {M_min:.2f}, std = {M_std:.2f}')\n",
    "print(f'Chinese : mean = {C_mean:.2f}, max = {C_max:.2f}, min = {C_min:.2f}, std = {C_std:.2f}')"
   ]
  },
  {
   "cell_type": "code",
   "execution_count": 15,
   "metadata": {},
   "outputs": [
    {
     "name": "stdout",
     "output_type": "stream",
     "text": [
      "English : mean = 67.17, max = 89.00, min = 48.00, std = 13.43\n",
      "Math : mean = 64.67, max = 85.00, min = 55.00, std = 9.86\n",
      "Chinese : mean = 75.33, max = 90.00, min = 65.00, std = 8.83\n"
     ]
    }
   ],
   "source": [
    "#2. 第五位同學補考數學後成績為55，請計算補考後數學成績平均、最大值、最小值、標準差?\n",
    "#1. 請計算各科成績平均、最大值、最小值、標準差，其中數學缺一筆資料可忽略?\n",
    "english_score = np.array([55,89,76,65,48,70])\n",
    "math_score = np.array([60,85,60,68,55,60])\n",
    "chinese_score = np.array([65,90,82,72,66,77])\n",
    "\n",
    "E_mean = english_score.mean()\n",
    "E_max = english_score.max()\n",
    "E_min = english_score.min()\n",
    "E_std = english_score.std()\n",
    "M_mean = np.nanmean(math_score)\n",
    "M_max = np.nanmax(math_score)\n",
    "M_min = np.nanmin(math_score)\n",
    "M_std = np.nanstd(math_score)\n",
    "C_mean = chinese_score.mean()\n",
    "C_max = chinese_score.max()\n",
    "C_min = chinese_score.min()\n",
    "C_std = chinese_score.std()\n",
    "\n",
    "print(f'English : mean = {E_mean:.2f}, max = {E_max:.2f}, min = {E_min:.2f}, std = {E_std:.2f}')\n",
    "print(f'Math : mean = {M_mean:.2f}, max = {M_max:.2f}, min = {M_min:.2f}, std = {M_std:.2f}')\n",
    "print(f'Chinese : mean = {C_mean:.2f}, max = {C_max:.2f}, min = {C_min:.2f}, std = {C_std:.2f}')"
   ]
  },
  {
   "cell_type": "code",
   "execution_count": null,
   "metadata": {},
   "outputs": [],
   "source": [
    "#3. 用補考後資料找出與國文成績相關係數最高的學科?\n",
    "np.corrcoef(english_score,)"
   ]
  }
 ],
 "metadata": {
  "kernelspec": {
   "display_name": "Python 3",
   "language": "python",
   "name": "python3"
  },
  "language_info": {
   "codemirror_mode": {
    "name": "ipython",
    "version": 3
   },
   "file_extension": ".py",
   "mimetype": "text/x-python",
   "name": "python",
   "nbconvert_exporter": "python",
   "pygments_lexer": "ipython3",
   "version": "3.8.5"
  }
 },
 "nbformat": 4,
 "nbformat_minor": 4
}
