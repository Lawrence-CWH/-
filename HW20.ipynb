{
 "cells": [
  {
   "cell_type": "markdown",
   "metadata": {},
   "source": [
    "第一題 : 當速度較慢時，該從何開時檢查 ?\n",
    "\n",
    "可以先從檔案的類型開始，且在運算的過程中使用python內建的函數"
   ]
  },
  {
   "cell_type": "markdown",
   "metadata": {},
   "source": [
    "第二題 : 資料過大時應採取什麼方式讓記憶體占用量下降 ?\n",
    "\n",
    "將欄位型態降級"
   ]
  }
 ],
 "metadata": {
  "kernelspec": {
   "display_name": "Python 3",
   "language": "python",
   "name": "python3"
  },
  "language_info": {
   "codemirror_mode": {
    "name": "ipython",
    "version": 3
   },
   "file_extension": ".py",
   "mimetype": "text/x-python",
   "name": "python",
   "nbconvert_exporter": "python",
   "pygments_lexer": "ipython3",
   "version": "3.8.5"
  }
 },
 "nbformat": 4,
 "nbformat_minor": 4
}
